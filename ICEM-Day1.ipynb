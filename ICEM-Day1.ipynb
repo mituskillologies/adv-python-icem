{
 "cells": [
  {
   "cell_type": "code",
   "execution_count": 2,
   "id": "a63bcbcd",
   "metadata": {},
   "outputs": [
    {
     "name": "stdout",
     "output_type": "stream",
     "text": [
      "Enter first number: 45\n",
      "Enter second number: 67\n",
      "Addition is 112.0\n"
     ]
    }
   ],
   "source": [
    "num1 = float(input('Enter first number: '))\n",
    "num2 = float(input('Enter second number: '))\n",
    "result = num1 + num2\n",
    "print('Addition is', result)"
   ]
  },
  {
   "cell_type": "code",
   "execution_count": 3,
   "id": "dc67b4d5",
   "metadata": {},
   "outputs": [
    {
     "name": "stdout",
     "output_type": "stream",
     "text": [
      "Enter radius: 5.6\n",
      "Area: 98.4704 Perimeter: 35.168\n"
     ]
    }
   ],
   "source": [
    "radius = float(input('Enter radius: '))\n",
    "area = 3.14 * radius ** 2\n",
    "perimeter = 2 * 3.14 * radius\n",
    "print('Area:', area,'Perimeter:',perimeter)"
   ]
  },
  {
   "cell_type": "code",
   "execution_count": 5,
   "id": "c8769ca1",
   "metadata": {},
   "outputs": [
    {
     "name": "stdout",
     "output_type": "stream",
     "text": [
      "Enter amount: 500\n",
      "Enter percentage: 20\n",
      "Final: 600.0\n"
     ]
    }
   ],
   "source": [
    "amount = int(input('Enter amount: '))\n",
    "percentage = float(input('Enter percentage: '))\n",
    "final_amount = amount * percentage / 100\n",
    "print('Final:', final_amount + amount)"
   ]
  },
  {
   "cell_type": "code",
   "execution_count": 9,
   "id": "7a644236",
   "metadata": {},
   "outputs": [
    {
     "name": "stdout",
     "output_type": "stream",
     "text": [
      "Enter the number: 0\n",
      "ZERO\n"
     ]
    }
   ],
   "source": [
    "num = int(input('Enter the number: '))\n",
    "if num > 0:\n",
    "    print('Positive Number')\n",
    "elif num == 0:\n",
    "    print('ZERO')\n",
    "else:\n",
    "    print('Negative Number')"
   ]
  },
  {
   "cell_type": "code",
   "execution_count": 12,
   "id": "66f74970",
   "metadata": {},
   "outputs": [
    {
     "name": "stdout",
     "output_type": "stream",
     "text": [
      "Enter the year: 1700\n",
      "Not Leap\n"
     ]
    }
   ],
   "source": [
    "year = int(input('Enter the year: '))\n",
    "if year % 4 == 0:\n",
    "    if year % 100 == 0:\n",
    "        if year % 400 == 0:\n",
    "            print('Leap year') # 2000\n",
    "        else:\n",
    "            print('Not Leap')  # 1900\n",
    "    else:\n",
    "        print('Leap year')  # 2024\n",
    "else:\n",
    "    print('Not Leap')  # 2023"
   ]
  },
  {
   "cell_type": "code",
   "execution_count": 13,
   "id": "24680914",
   "metadata": {},
   "outputs": [],
   "source": [
    "import calendar"
   ]
  },
  {
   "cell_type": "code",
   "execution_count": 15,
   "id": "2cb458a1",
   "metadata": {},
   "outputs": [
    {
     "data": {
      "text/plain": [
       "True"
      ]
     },
     "execution_count": 15,
     "metadata": {},
     "output_type": "execute_result"
    }
   ],
   "source": [
    "calendar.isleap(2000)"
   ]
  },
  {
   "cell_type": "code",
   "execution_count": 16,
   "id": "6231fd84",
   "metadata": {},
   "outputs": [
    {
     "name": "stdout",
     "output_type": "stream",
     "text": [
      "Tushar\n",
      "Tushar\n",
      "Tushar\n",
      "Tushar\n",
      "Tushar\n",
      "Tushar\n",
      "Tushar\n",
      "Tushar\n",
      "Tushar\n",
      "Tushar\n"
     ]
    }
   ],
   "source": [
    "count = 0\n",
    "while count < 10:\n",
    "    print('Tushar')\n",
    "    count += 1"
   ]
  },
  {
   "cell_type": "code",
   "execution_count": 17,
   "id": "a6fbbff1",
   "metadata": {},
   "outputs": [
    {
     "name": "stdout",
     "output_type": "stream",
     "text": [
      "55\n"
     ]
    }
   ],
   "source": [
    "add = 0\n",
    "num = 1\n",
    "while num <= 10:\n",
    "    add = add + num\n",
    "    num += 1\n",
    "\n",
    "print(add)"
   ]
  },
  {
   "cell_type": "code",
   "execution_count": 18,
   "id": "e5db67be",
   "metadata": {},
   "outputs": [
    {
     "name": "stdout",
     "output_type": "stream",
     "text": [
      "100\n"
     ]
    }
   ],
   "source": [
    "add = 0\n",
    "num = 1\n",
    "while num <= 20:\n",
    "    add = add + num\n",
    "    num += 2\n",
    "\n",
    "print(add)"
   ]
  },
  {
   "cell_type": "code",
   "execution_count": 19,
   "id": "05d6d691",
   "metadata": {},
   "outputs": [
    {
     "name": "stdout",
     "output_type": "stream",
     "text": [
      "45\n",
      "99\n",
      "76\n",
      "23\n",
      "45\n"
     ]
    }
   ],
   "source": [
    "for x in 45, 99, 76, 23, 45:\n",
    "    print(x)"
   ]
  },
  {
   "cell_type": "code",
   "execution_count": 20,
   "id": "6856d434",
   "metadata": {},
   "outputs": [
    {
     "name": "stdout",
     "output_type": "stream",
     "text": [
      "Tushar\n",
      "Tushar\n",
      "Tushar\n",
      "Tushar\n",
      "Tushar\n",
      "Tushar\n",
      "Tushar\n",
      "Tushar\n",
      "Tushar\n",
      "Tushar\n"
     ]
    }
   ],
   "source": [
    "for i in range(10):\n",
    "    print('Tushar')"
   ]
  },
  {
   "cell_type": "code",
   "execution_count": 21,
   "id": "5074c757",
   "metadata": {},
   "outputs": [
    {
     "name": "stdout",
     "output_type": "stream",
     "text": [
      "55\n"
     ]
    }
   ],
   "source": [
    "add = 0\n",
    "for num in range(1,11):\n",
    "    add += num\n",
    "    \n",
    "print(add)"
   ]
  },
  {
   "cell_type": "code",
   "execution_count": 22,
   "id": "b6c4d03d",
   "metadata": {},
   "outputs": [
    {
     "data": {
      "text/plain": [
       "[1, 3, 5, 7, 9, 11, 13, 15, 17, 19]"
      ]
     },
     "execution_count": 22,
     "metadata": {},
     "output_type": "execute_result"
    }
   ],
   "source": [
    "list(range(1,21,2))"
   ]
  },
  {
   "cell_type": "code",
   "execution_count": 23,
   "id": "16b6b35c",
   "metadata": {},
   "outputs": [
    {
     "name": "stdout",
     "output_type": "stream",
     "text": [
      "100\n"
     ]
    }
   ],
   "source": [
    "add = 0\n",
    "for num in range(1,20,2):\n",
    "    add += num\n",
    "    \n",
    "print(add)"
   ]
  },
  {
   "cell_type": "code",
   "execution_count": 24,
   "id": "37d2883f",
   "metadata": {},
   "outputs": [
    {
     "data": {
      "text/plain": [
       "100"
      ]
     },
     "execution_count": 24,
     "metadata": {},
     "output_type": "execute_result"
    }
   ],
   "source": [
    "sum(range(1,20,2))"
   ]
  },
  {
   "cell_type": "code",
   "execution_count": 25,
   "id": "8a5ceb8d",
   "metadata": {},
   "outputs": [
    {
     "name": "stdout",
     "output_type": "stream",
     "text": [
      "0\n",
      "1\n",
      "2\n",
      "3\n",
      "4\n",
      "6\n",
      "7\n",
      "8\n",
      "9\n"
     ]
    }
   ],
   "source": [
    "for i in range(10):\n",
    "    if i == 5:\n",
    "        continue\n",
    "    print(i)"
   ]
  },
  {
   "cell_type": "code",
   "execution_count": 26,
   "id": "3b6b7534",
   "metadata": {},
   "outputs": [],
   "source": [
    "metals = ['silver','gold','copper','iron',\n",
    "         'copper','iron','aluminium','gold',\n",
    "         'silver','copper','gold']"
   ]
  },
  {
   "cell_type": "code",
   "execution_count": 27,
   "id": "bf72a67f",
   "metadata": {},
   "outputs": [
    {
     "name": "stdout",
     "output_type": "stream",
     "text": [
      "['silver', 'gold', 'iron', 'iron', 'aluminium', 'gold', 'silver', 'gold']\n"
     ]
    }
   ],
   "source": [
    "new_metals = []\n",
    "for metal in metals:\n",
    "    if metal != 'copper':\n",
    "        new_metals.append(metal)\n",
    "        \n",
    "print(new_metals)"
   ]
  },
  {
   "cell_type": "code",
   "execution_count": 28,
   "id": "9e1a61d0",
   "metadata": {},
   "outputs": [],
   "source": [
    "new_metals = [metal for metal in metals\n",
    "              if metal !='copper']"
   ]
  },
  {
   "cell_type": "code",
   "execution_count": 29,
   "id": "9a445598",
   "metadata": {},
   "outputs": [
    {
     "data": {
      "text/plain": [
       "['silver', 'gold', 'iron', 'iron', 'aluminium', 'gold', 'silver', 'gold']"
      ]
     },
     "execution_count": 29,
     "metadata": {},
     "output_type": "execute_result"
    }
   ],
   "source": [
    "new_metals"
   ]
  },
  {
   "cell_type": "code",
   "execution_count": 43,
   "id": "52979985",
   "metadata": {},
   "outputs": [],
   "source": [
    "num = [5, 6, 2, 12, 8, 9, 1, 3, 27, 7, 4, 0, 12]"
   ]
  },
  {
   "cell_type": "code",
   "execution_count": 44,
   "id": "6dc8e738",
   "metadata": {},
   "outputs": [],
   "source": [
    "mid = len(num) // 2"
   ]
  },
  {
   "cell_type": "code",
   "execution_count": 45,
   "id": "57740b96",
   "metadata": {},
   "outputs": [
    {
     "data": {
      "text/plain": [
       "[5, 6, 2, 12, 8, 9, 0, 1, 3, 4, 7, 12, 27]"
      ]
     },
     "execution_count": 45,
     "metadata": {},
     "output_type": "execute_result"
    }
   ],
   "source": [
    "x = num[:mid]\n",
    "y = num[mid:]\n",
    "y.sort()\n",
    "num = x + y\n",
    "num"
   ]
  },
  {
   "cell_type": "code",
   "execution_count": 34,
   "id": "dce8ec74",
   "metadata": {},
   "outputs": [
    {
     "data": {
      "text/plain": [
       "[1, 3, 7, 4, 0]"
      ]
     },
     "execution_count": 34,
     "metadata": {},
     "output_type": "execute_result"
    }
   ],
   "source": []
  },
  {
   "cell_type": "code",
   "execution_count": 35,
   "id": "5c98189f",
   "metadata": {},
   "outputs": [
    {
     "data": {
      "text/plain": [
       "[5, 6, 2, 8, 9, 0, 1, 3, 4, 7]"
      ]
     },
     "execution_count": 35,
     "metadata": {},
     "output_type": "execute_result"
    }
   ],
   "source": []
  },
  {
   "cell_type": "code",
   "execution_count": 47,
   "id": "5f1a97b3",
   "metadata": {
    "scrolled": true
   },
   "outputs": [
    {
     "name": "stdout",
     "output_type": "stream",
     "text": [
      "How many students? 5\n",
      "Enter roll: 1\n",
      "Enter name: ABC\n",
      "Enter marks: 56.78\n",
      "Enter roll: 2\n",
      "Enter name: PQR\n",
      "Enter marks: 78.56\n",
      "Enter roll: 3\n",
      "Enter name: XYZ\n",
      "Enter marks: 67.34\n",
      "Enter roll: 4\n",
      "Enter name: HIJ\n",
      "Enter marks: 61.34\n",
      "Enter roll: 5\n",
      "Enter name: STU\n",
      "Enter marks: 69.34\n"
     ]
    }
   ],
   "source": [
    "studs = []\n",
    "num = int(input('How many students? '))\n",
    "for i in range(num):\n",
    "    roll = int(input('Enter roll: '))\n",
    "    name = input('Enter name: ')\n",
    "    marks = float(input('Enter marks: '))\n",
    "    studs.append((roll,name,marks))\n",
    "    \n",
    "mx = 0\n",
    "for stud in studs:\n",
    "    if stud[2] > mx:\n",
    "        mx = stud[2]\n",
    "        topper = stud[1]\n",
    "        \n",
    "print(topper)"
   ]
  },
  {
   "cell_type": "code",
   "execution_count": 48,
   "id": "d80b7439",
   "metadata": {},
   "outputs": [
    {
     "data": {
      "text/plain": [
       "'PQR'"
      ]
     },
     "execution_count": 48,
     "metadata": {},
     "output_type": "execute_result"
    }
   ],
   "source": [
    "topper"
   ]
  },
  {
   "cell_type": "code",
   "execution_count": 49,
   "id": "ab030f67",
   "metadata": {},
   "outputs": [],
   "source": [
    "new = 90, 33, 22, 12, 45"
   ]
  },
  {
   "cell_type": "code",
   "execution_count": 50,
   "id": "f4e9aaee",
   "metadata": {},
   "outputs": [
    {
     "data": {
      "text/plain": [
       "(90, 33, 22, 12, 45)"
      ]
     },
     "execution_count": 50,
     "metadata": {},
     "output_type": "execute_result"
    }
   ],
   "source": [
    "new"
   ]
  },
  {
   "cell_type": "code",
   "execution_count": 51,
   "id": "bd93fd5a",
   "metadata": {},
   "outputs": [],
   "source": [
    "# insert 11 between 90 and 33 "
   ]
  },
  {
   "cell_type": "code",
   "execution_count": 55,
   "id": "35c3ab6f",
   "metadata": {},
   "outputs": [
    {
     "data": {
      "text/plain": [
       "(90, 11, 33, 22, 12, 45)"
      ]
     },
     "execution_count": 55,
     "metadata": {},
     "output_type": "execute_result"
    }
   ],
   "source": [
    "new = list(new)\n",
    "new.insert(1,11)\n",
    "new = tuple(new)\n",
    "new"
   ]
  },
  {
   "cell_type": "code",
   "execution_count": 54,
   "id": "3c90756d",
   "metadata": {},
   "outputs": [
    {
     "data": {
      "text/plain": [
       "(90, 33, 22, 12, 45)"
      ]
     },
     "execution_count": 54,
     "metadata": {},
     "output_type": "execute_result"
    }
   ],
   "source": [
    "new"
   ]
  },
  {
   "cell_type": "code",
   "execution_count": 56,
   "id": "d2769a67",
   "metadata": {},
   "outputs": [],
   "source": [
    "s = {}"
   ]
  },
  {
   "cell_type": "code",
   "execution_count": 57,
   "id": "f385336b",
   "metadata": {},
   "outputs": [
    {
     "data": {
      "text/plain": [
       "{2: 56}"
      ]
     },
     "execution_count": 57,
     "metadata": {},
     "output_type": "execute_result"
    }
   ],
   "source": [
    "s[2] = 56\n",
    "s"
   ]
  },
  {
   "cell_type": "code",
   "execution_count": 58,
   "id": "2c305d74",
   "metadata": {},
   "outputs": [
    {
     "data": {
      "text/plain": [
       "set()"
      ]
     },
     "execution_count": 58,
     "metadata": {},
     "output_type": "execute_result"
    }
   ],
   "source": [
    "s = set()\n",
    "s"
   ]
  },
  {
   "cell_type": "code",
   "execution_count": 59,
   "id": "68ad73bf",
   "metadata": {},
   "outputs": [],
   "source": [
    "s.add(45)"
   ]
  },
  {
   "cell_type": "code",
   "execution_count": 60,
   "id": "3e2f8a4d",
   "metadata": {},
   "outputs": [
    {
     "data": {
      "text/plain": [
       "{45}"
      ]
     },
     "execution_count": 60,
     "metadata": {},
     "output_type": "execute_result"
    }
   ],
   "source": [
    "s"
   ]
  },
  {
   "cell_type": "code",
   "execution_count": 61,
   "id": "754293fd",
   "metadata": {},
   "outputs": [
    {
     "data": {
      "text/plain": [
       "{5, 45}"
      ]
     },
     "execution_count": 61,
     "metadata": {},
     "output_type": "execute_result"
    }
   ],
   "source": [
    "s.add(5)\n",
    "s"
   ]
  },
  {
   "cell_type": "code",
   "execution_count": 62,
   "id": "bd125710",
   "metadata": {},
   "outputs": [
    {
     "data": {
      "text/plain": [
       "{5, 45}"
      ]
     },
     "execution_count": 62,
     "metadata": {},
     "output_type": "execute_result"
    }
   ],
   "source": [
    "s.add(45)\n",
    "s"
   ]
  },
  {
   "cell_type": "code",
   "execution_count": 63,
   "id": "a18111c2",
   "metadata": {},
   "outputs": [],
   "source": [
    "def factorial(n):\n",
    "    fact = 1\n",
    "    for i in range(1, n+1):\n",
    "        fact = fact * i\n",
    "    return fact"
   ]
  },
  {
   "cell_type": "code",
   "execution_count": 64,
   "id": "a5d7f00b",
   "metadata": {},
   "outputs": [
    {
     "data": {
      "text/plain": [
       "120"
      ]
     },
     "execution_count": 64,
     "metadata": {},
     "output_type": "execute_result"
    }
   ],
   "source": [
    "factorial(5)"
   ]
  },
  {
   "cell_type": "code",
   "execution_count": null,
   "id": "96572e79",
   "metadata": {},
   "outputs": [],
   "source": []
  }
 ],
 "metadata": {
  "kernelspec": {
   "display_name": "Python 3",
   "language": "python",
   "name": "python3"
  },
  "language_info": {
   "codemirror_mode": {
    "name": "ipython",
    "version": 3
   },
   "file_extension": ".py",
   "mimetype": "text/x-python",
   "name": "python",
   "nbconvert_exporter": "python",
   "pygments_lexer": "ipython3",
   "version": "3.8.10"
  }
 },
 "nbformat": 4,
 "nbformat_minor": 5
}
